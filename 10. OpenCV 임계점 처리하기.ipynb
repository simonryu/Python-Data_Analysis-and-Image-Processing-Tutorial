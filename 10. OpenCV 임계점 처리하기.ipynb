{
  "nbformat": 4,
  "nbformat_minor": 0,
  "metadata": {
    "colab": {
      "name": "Untitled5.ipynb",
      "provenance": [],
      "authorship_tag": "ABX9TyPgsxw4aMwGkLuDgj1jplqH",
      "include_colab_link": true
    },
    "kernelspec": {
      "name": "python3",
      "display_name": "Python 3"
    }
  },
  "cells": [
    {
      "cell_type": "markdown",
      "metadata": {
        "id": "view-in-github",
        "colab_type": "text"
      },
      "source": [
        "<a href=\"https://colab.research.google.com/github/toot09/Python-Data_Analysis-and-Image-Processing-Tutorial/blob/master/10.%20OpenCV%20%EC%9E%84%EA%B3%84%EC%A0%90%20%EC%B2%98%EB%A6%AC%ED%95%98%EA%B8%B0.ipynb\" target=\"_parent\"><img src=\"https://colab.research.google.com/assets/colab-badge.svg\" alt=\"Open In Colab\"/></a>"
      ]
    },
    {
      "cell_type": "markdown",
      "metadata": {
        "id": "IujbhpvnGGNC",
        "colab_type": "text"
      },
      "source": [
        "10. OpenCV 임계점 처리하기\n",
        "\n",
        "cv2.threshold(image, thresh, max_value, type): 임계값을 기준으로 흑/백으로 분류하는 함수\n",
        "*   image: 처리할 Gray Scale 이미지\n",
        "*   thresh: 임계 값 (전체 픽셀에 적용)\n",
        "*   max_value: 임계 값을 넘었을 때 적용할 값\n",
        "*   type: 임계점을 처리하는 방식\n",
        "\n",
        "1) THRESH_BINARY: 임계 값보다 크면 max_value, 작으면 0\n",
        "\n",
        "2) THRESH_BINARY_INV: 임계 값보다 작으면 max_value, 크면 0\n",
        "\n",
        "3) THRESH_TRUNC: 임계 값보다 크면 임계 값, 작으면 그대로\n",
        "\n",
        "4) THRESH_TOZERO: 임계 값보다 크면 그대로, 작으면 0\n",
        "\n",
        "5) THRESH_TOZERO_INV: 임계 값보다 크면 0, 작으면 그대로"
      ]
    },
    {
      "cell_type": "code",
      "metadata": {
        "id": "C6DYVCJjGRhQ",
        "colab_type": "code",
        "colab": {}
      },
      "source": [
        ""
      ],
      "execution_count": 0,
      "outputs": []
    }
  ]
}