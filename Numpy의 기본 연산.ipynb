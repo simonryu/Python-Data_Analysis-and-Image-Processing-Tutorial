{
  "nbformat": 4,
  "nbformat_minor": 0,
  "metadata": {
    "colab": {
      "name": "Untitled0.ipynb",
      "provenance": [],
      "include_colab_link": true
    },
    "kernelspec": {
      "name": "python3",
      "display_name": "Python 3"
    }
  },
  "cells": [
    {
      "cell_type": "markdown",
      "metadata": {
        "id": "view-in-github",
        "colab_type": "text"
      },
      "source": [
        "<a href=\"https://colab.research.google.com/github/toot09/15012020_made/blob/master/Numpy%EC%9D%98%20%EA%B8%B0%EB%B3%B8%20%EC%97%B0%EC%82%B0%20%5B%20Python%20%EB%8D%B0%EC%9D%B4%ED%84%B0%20%EB%B6%84%EC%84%9D%EA%B3%BC%20%EC%9D%B4%EB%AF%B8%EC%A7%80%20%EC%B2%98%EB%A6%AC%20%5D.ipynb\" target=\"_parent\"><img src=\"https://colab.research.google.com/assets/colab-badge.svg\" alt=\"Open In Colab\"/></a>"
      ]
    },
    {
      "cell_type": "code",
      "metadata": {
        "id": "OxzfcriAv8HK",
        "colab_type": "code",
        "colab": {}
      },
      "source": [
        "import numpy as np"
      ],
      "execution_count": 0,
      "outputs": []
    },
    {
      "cell_type": "code",
      "metadata": {
        "id": "wjdE2t-K2xTR",
        "colab_type": "code",
        "colab": {}
      },
      "source": [
        "# 행렬 더하기\n",
        "#array1 = np.random.normal(0,1,(2,3))\n",
        "array1 = np.random.randint(0,10, size=8).reshape(4,2)\n",
        "print(array1)\n",
        "print(array1*2)"
      ],
      "execution_count": 0,
      "outputs": []
    },
    {
      "cell_type": "code",
      "metadata": {
        "id": "ZyP8_jfTyTVB",
        "colab_type": "code",
        "outputId": "c14ab8cd-e946-447f-f308-15fa64f6f91e",
        "colab": {
          "base_uri": "https://localhost:8080/",
          "height": 251
        }
      },
      "source": [
        "#size가 다른 행렬들의 덧셈(broadcast)\n",
        "#한개는 행,열 size가 1이어야함. ex) np.arange(3).reshape(1,3) or np.arange(3).reshape(3,1)\n",
        "array1 = np.arange(4).reshape(2,2)\n",
        "print(array1)\n",
        "array2 = np.arange(2).reshape(1,2)\n",
        "print(array2)\n",
        "print(np.add(array1,array2))\n",
        "print(\"=============\")\n",
        "array3 = np.arange(4).reshape(2,2)\n",
        "print(array3)\n",
        "array4 = np.arange(2).reshape(2,1)\n",
        "print(array4)\n",
        "print(np.add(array3,array4))\n",
        "print(\"=============\")\n",
        "# 행, 열 둘중에 하나라도 맞아야 덧셈이 가능함\n",
        "#array5 = np.arange(9).reshape(3,3)\n",
        "#print(array5)\n",
        "#array6 = np.arange(2).reshape(2,1)\n",
        "#print(array6)\n",
        "#print(np.add(array5,array6))"
      ],
      "execution_count": 10,
      "outputs": [
        {
          "output_type": "stream",
          "text": [
            "[[0 1]\n",
            " [2 3]]\n",
            "[[0 1]]\n",
            "[[0 2]\n",
            " [2 4]]\n",
            "=============\n",
            "[[0 1]\n",
            " [2 3]]\n",
            "[[0]\n",
            " [1]]\n",
            "[[0 1]\n",
            " [3 4]]\n",
            "=============\n"
          ],
          "name": "stdout"
        }
      ]
    },
    {
      "cell_type": "code",
      "metadata": {
        "id": "RikdLlUT2iJs",
        "colab_type": "code",
        "colab": {
          "base_uri": "https://localhost:8080/",
          "height": 179
        },
        "outputId": "dc1d1a63-5264-4553-853c-cd70922e2bd1"
      },
      "source": [
        "# MASKING (마스킹)\n",
        "array1 = np.arange(9).reshape(3,3)\n",
        "\n",
        "array2 = array1 < 5\n",
        "print(array2)\n",
        "\n",
        "# 마스킹 배열의 True 값만 handling 할 수 있다.!\n",
        "# 원소 일일히 if문 쓰지않고 바로 체크할 수 있어서 좋다\n",
        "array1[array2] = 100\n",
        "print(array1)\n",
        "\n",
        "arrayTF = (array1 % 2 == 1)\n",
        "array1[arrayTF] = 23\n",
        "print(array1)"
      ],
      "execution_count": 47,
      "outputs": [
        {
          "output_type": "stream",
          "text": [
            "[[ True  True  True]\n",
            " [ True  True False]\n",
            " [False False False]]\n",
            "[[100 100 100]\n",
            " [100 100   5]\n",
            " [  6   7   8]]\n",
            "[[100 100 100]\n",
            " [100 100  23]\n",
            " [  6  23   8]]\n"
          ],
          "name": "stdout"
        }
      ]
    },
    {
      "cell_type": "code",
      "metadata": {
        "id": "pzBIByGu9HYb",
        "colab_type": "code",
        "colab": {
          "base_uri": "https://localhost:8080/",
          "height": 161
        },
        "outputId": "eda0a55a-7778-496a-8e50-ccec08a2079e"
      },
      "source": [
        "array1 = np.arange(16).reshape(4,4)\n",
        "print(array1)\n",
        "print(\"최대값 : \",np.max(array1))\n",
        "print(\"최소값 : \",np.min(array1))\n",
        "print(\"합계값 : \",np.sum(array1))\n",
        "print(\"평균값 : \",np.mean(array1))"
      ],
      "execution_count": 56,
      "outputs": [
        {
          "output_type": "stream",
          "text": [
            "[[ 0  1  2  3]\n",
            " [ 4  5  6  7]\n",
            " [ 8  9 10 11]\n",
            " [12 13 14 15]]\n",
            "최대값 :  15\n",
            "최소값 :  0\n",
            "합계값 :  120\n",
            "평균값 :  7.5\n"
          ],
          "name": "stdout"
        }
      ]
    },
    {
      "cell_type": "code",
      "metadata": {
        "id": "sPrHKmG4BvMR",
        "colab_type": "code",
        "colab": {
          "base_uri": "https://localhost:8080/",
          "height": 233
        },
        "outputId": "edaa7dc2-2d4a-4303-ef44-70204c201ab1"
      },
      "source": [
        "array1 = np.arange(16).reshape(4,4)\n",
        "print(array1)\n",
        "left, right = np.split(array1, [1], axis=0)\n",
        "#ex2 = np.split(array1, [1], axis=1)\n",
        "print(left)\n",
        "print(right)\n",
        "print(\"=====================\")\n",
        "#행을 쪼개서 sum\n",
        "print(np.sum(array1,axis = 0))\n",
        "print(\"=====================\")\n",
        "#열을 쪼개서 sum\n",
        "print(np.sum(array1,axis = 1))"
      ],
      "execution_count": 64,
      "outputs": [
        {
          "output_type": "stream",
          "text": [
            "[[ 0  1  2  3]\n",
            " [ 4  5  6  7]\n",
            " [ 8  9 10 11]\n",
            " [12 13 14 15]]\n",
            "[[0 1 2 3]]\n",
            "[[ 4  5  6  7]\n",
            " [ 8  9 10 11]\n",
            " [12 13 14 15]]\n",
            "=====================\n",
            "[24 28 32 36]\n",
            "=====================\n",
            "[ 6 22 38 54]\n"
          ],
          "name": "stdout"
        }
      ]
    }
  ]
}
