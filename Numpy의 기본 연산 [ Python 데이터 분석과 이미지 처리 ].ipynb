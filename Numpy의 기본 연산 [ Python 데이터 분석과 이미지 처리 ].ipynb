{
  "nbformat": 4,
  "nbformat_minor": 0,
  "metadata": {
    "colab": {
      "name": "Untitled0.ipynb",
      "provenance": [],
      "include_colab_link": true
    },
    "kernelspec": {
      "name": "python3",
      "display_name": "Python 3"
    }
  },
  "cells": [
    {
      "cell_type": "markdown",
      "metadata": {
        "id": "view-in-github",
        "colab_type": "text"
      },
      "source": [
        "<a href=\"https://colab.research.google.com/github/toot09/15012020_made/blob/master/Numpy%EC%9D%98%20%EA%B8%B0%EB%B3%B8%20%EC%97%B0%EC%82%B0%20%5B%20Python%20%EB%8D%B0%EC%9D%B4%ED%84%B0%20%EB%B6%84%EC%84%9D%EA%B3%BC%20%EC%9D%B4%EB%AF%B8%EC%A7%80%20%EC%B2%98%EB%A6%AC%20%5D.ipynb\" target=\"_parent\"><img src=\"https://colab.research.google.com/assets/colab-badge.svg\" alt=\"Open In Colab\"/></a>"
      ]
    },
    {
      "cell_type": "code",
      "metadata": {
        "id": "OxzfcriAv8HK",
        "colab_type": "code",
        "colab": {}
      },
      "source": [
        "import numpy as np"
      ],
      "execution_count": 0,
      "outputs": []
    },
    {
      "cell_type": "code",
      "metadata": {
        "id": "wjdE2t-K2xTR",
        "colab_type": "code",
        "colab": {}
      },
      "source": [
        "# 행렬 더하기\n",
        "#array1 = np.random.normal(0,1,(2,3))\n",
        "array1 = np.random.randint(0,10, size=8).reshape(4,2)\n",
        "print(array1)\n",
        "print(array1*2)"
      ],
      "execution_count": 0,
      "outputs": []
    },
    {
      "cell_type": "code",
      "metadata": {
        "id": "ZyP8_jfTyTVB",
        "colab_type": "code",
        "outputId": "c14ab8cd-e946-447f-f308-15fa64f6f91e",
        "colab": {
          "base_uri": "https://localhost:8080/",
          "height": 251
        }
      },
      "source": [
        "#size가 다른 행렬들의 덧셈(broadcast)\n",
        "array1 = np.arange(4).reshape(2,2)\n",
        "print(array1)\n",
        "array2 = np.arange(2).reshape(1,2)\n",
        "print(array2)\n",
        "print(np.add(array1,array2))\n",
        "print(\"=============\")\n",
        "array3 = np.arange(4).reshape(2,2)\n",
        "print(array3)\n",
        "array4 = np.arange(2).reshape(2,1)\n",
        "print(array4)\n",
        "print(np.add(array3,array4))\n",
        "print(\"=============\")\n",
        "# 행, 열 둘중에 하나라도 맞아야 덧셈이 가능함\n",
        "#array5 = np.arange(9).reshape(3,3)\n",
        "#print(array5)\n",
        "#array6 = np.arange(2).reshape(2,1)\n",
        "#print(array6)\n",
        "#print(np.add(array5,array6))"
      ],
      "execution_count": 10,
      "outputs": [
        {
          "output_type": "stream",
          "text": [
            "[[0 1]\n",
            " [2 3]]\n",
            "[[0 1]]\n",
            "[[0 2]\n",
            " [2 4]]\n",
            "=============\n",
            "[[0 1]\n",
            " [2 3]]\n",
            "[[0]\n",
            " [1]]\n",
            "[[0 1]\n",
            " [3 4]]\n",
            "=============\n"
          ],
          "name": "stdout"
        }
      ]
    },
    {
      "cell_type": "code",
      "metadata": {
        "id": "RikdLlUT2iJs",
        "colab_type": "code",
        "colab": {
          "base_uri": "https://localhost:8080/",
          "height": 125
        },
        "outputId": "a856c56d-d337-4941-adf5-ccd9eee572fc"
      },
      "source": [
        "array1 = np.arange(9).reshape(3,3)\n",
        "#print(array1)\n",
        "array2 = np.arange(9).reshape(3,3)\n",
        "#print(array2)\n",
        "#행 붙이기\n",
        "array3 = np.concatenate([array1,array2],axis = 0)\n",
        "#print(array3)\n",
        "#열 붙이기\n",
        "array4 = np.concatenate([array1,array2],axis = 1)\n",
        "#print(array4)\n",
        "#print(array3)\n",
        "print(array1)\n",
        "print(np.add(array1,np.arange(3)))"
      ],
      "execution_count": 18,
      "outputs": [
        {
          "output_type": "stream",
          "text": [
            "[[0 1 2]\n",
            " [3 4 5]\n",
            " [6 7 8]]\n",
            "[[ 0  2  4]\n",
            " [ 3  5  7]\n",
            " [ 6  8 10]]\n"
          ],
          "name": "stdout"
        }
      ]
    }
  ]
}