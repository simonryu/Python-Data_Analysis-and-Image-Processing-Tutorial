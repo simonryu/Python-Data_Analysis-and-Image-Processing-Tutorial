{
  "nbformat": 4,
  "nbformat_minor": 0,
  "metadata": {
    "colab": {
      "name": "Untitled2.ipynb",
      "provenance": [],
      "authorship_tag": "ABX9TyOp12fPI1413oum689/ddjT",
      "include_colab_link": true
    },
    "kernelspec": {
      "name": "python3",
      "display_name": "Python 3"
    }
  },
  "cells": [
    {
      "cell_type": "markdown",
      "metadata": {
        "id": "view-in-github",
        "colab_type": "text"
      },
      "source": [
        "<a href=\"https://colab.research.google.com/github/toot09/Python-Data_Analysis-and-Image-Processing-Tutorial/blob/master/11.%20OpenCV%20Tracker.ipynb\" target=\"_parent\"><img src=\"https://colab.research.google.com/assets/colab-badge.svg\" alt=\"Open In Colab\"/></a>"
      ]
    },
    {
      "cell_type": "markdown",
      "metadata": {
        "id": "SSO1SadJCGD_",
        "colab_type": "text"
      },
      "source": [
        "\n",
        "cv2.createTracker(track_bar, name, window_name, value, count, on_change): Tracker를 생성하는 함수\n",
        "\n",
        "*   value: 초기 값\n",
        "*   count: Max 값 (Min: 0)\n",
        "*   on_change: 값이 변경될 때 호출되는 Callback 함수\n",
        "\n",
        "cv2.getTrackerPos(track_bar, name, window_name): Tracker로부터 값을 얻어 오는 함수"
      ]
    },
    {
      "cell_type": "markdown",
      "metadata": {
        "id": "DfERrcKxDIjv",
        "colab_type": "text"
      },
      "source": [
        "Tracker 실습은 PyCharm등의 개인 개발환경에서 진행하세요."
      ]
    },
    {
      "cell_type": "code",
      "metadata": {
        "id": "3lT94dS-DCp3",
        "colab_type": "code",
        "colab": {}
      },
      "source": [
        "import cv2\n",
        "import numpy as np\n",
        "\n",
        "def change_color(x):\n",
        "  r = cv2.getTrackbarPos(\"R\", \"Image\")\n",
        "  g = cv2.getTrackbarPos(\"G\", \"Image\")\n",
        "  b = cv2.getTrackbarPos(\"B\", \"Image\")\n",
        "  image[:] = [b, g, r]\n",
        "  cv2.imshow('Image', image)\n",
        "  \n",
        "image = np.zeros((600, 400, 3), np.uint8)\n",
        "cv2.namedWindow(\"Image\")\n",
        "\n",
        "cv2.createTrackbar(\"R\", \"Image\", 0, 255, change_color)\n",
        "cv2.createTrackbar(\"G\", \"Image\", 0, 255, change_color)\n",
        "cv2.createTrackbar(\"B\", \"Image\", 0, 255, change_color)\n",
        "\n",
        "cv2.imshow('Image', image)\n",
        "cv2.waitKey(0)"
      ],
      "execution_count": 0,
      "outputs": []
    }
  ]
}