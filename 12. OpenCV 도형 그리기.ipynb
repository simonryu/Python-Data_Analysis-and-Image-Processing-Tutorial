{
  "nbformat": 4,
  "nbformat_minor": 0,
  "metadata": {
    "colab": {
      "name": "Untitled3.ipynb",
      "provenance": [],
      "authorship_tag": "ABX9TyMxcYAb/Yyd8eN6x6Dma8nI",
      "include_colab_link": true
    },
    "kernelspec": {
      "name": "python3",
      "display_name": "Python 3"
    }
  },
  "cells": [
    {
      "cell_type": "markdown",
      "metadata": {
        "id": "view-in-github",
        "colab_type": "text"
      },
      "source": [
        "<a href=\"https://colab.research.google.com/github/toot09/Python-Data_Analysis-and-Image-Processing-Tutorial/blob/master/12.%20OpenCV%20%EB%8F%84%ED%98%95%20%EA%B7%B8%EB%A6%AC%EA%B8%B0.ipynb\" target=\"_parent\"><img src=\"https://colab.research.google.com/assets/colab-badge.svg\" alt=\"Open In Colab\"/></a>"
      ]
    },
    {
      "cell_type": "markdown",
      "metadata": {
        "id": "I8WM1YCPKcpj",
        "colab_type": "text"
      },
      "source": [
        "cv2.line(image, start, end, color, thickness): 하나의 직선을 그리는 함수\n",
        "*   start: 시작 좌표 (2차원)\n",
        "*   end: 종료 좌표 (2차원)\n",
        "*   thickness: 선의 두께"
      ]
    },
    {
      "cell_type": "code",
      "metadata": {
        "id": "2Jeauw9FKndw",
        "colab_type": "code",
        "colab": {}
      },
      "source": [
        "import cv2\n",
        "import matplotlib.pyplot as plt\n",
        "import numpy as np"
      ],
      "execution_count": 0,
      "outputs": []
    },
    {
      "cell_type": "code",
      "metadata": {
        "id": "bJh5e0RIK4TX",
        "colab_type": "code",
        "colab": {
          "base_uri": "https://localhost:8080/",
          "height": 269
        },
        "outputId": "c5ac0aa9-b6a3-4e6d-8c24-2dd4336c1790"
      },
      "source": [
        "#full 함수를 이용하여 255로 값 초기화, unit8:8bit만큼 255로 초기화\n",
        "image1 = np.full((512, 512, 3), 255, np.uint8)\n",
        "#image = np.float32((512,512,3))\n",
        "image1 = cv2.line(image1, (0, 0), (255, 255), (255, 0, 0), 3)\n",
        "plt.imshow(image1)\n",
        "plt.show()"
      ],
      "execution_count": 33,
      "outputs": [
        {
          "output_type": "display_data",
          "data": {
            "image/png": "[encoded data removed]",
            "text/plain": [
              "<Figure size 432x288 with 1 Axes>"
            ]
          },
          "metadata": {
            "tags": []
          }
        }
      ]
    },
    {
      "cell_type": "markdown",
      "metadata": {
        "id": "z3217CicVcPv",
        "colab_type": "text"
      },
      "source": [
        "cv2.rectangle(image, start, end, color, thickness): 하나의 사각형을 그리는 함수\n",
        "\n",
        "*   start: 시작 좌표 (2차원)\n",
        "*   end: 종료 좌표 (2차원)\n",
        "\n",
        "thickness: 선의 두께 (채우기: -1)"
      ]
    },
    {
      "cell_type": "code",
      "metadata": {
        "id": "yjS8H0WQRk92",
        "colab_type": "code",
        "colab": {
          "base_uri": "https://localhost:8080/",
          "height": 287
        },
        "outputId": "e5d85fe1-f5cf-4ba1-a32c-9a0d3cceaa1a"
      },
      "source": [
        "image2 = np.full((512,512,3),255,np.uint8)\n",
        "image2 = cv2.rectangle(image2,(100,100),(200,200),(0,255,0),3)\n",
        "plt.imshow(image2)\n",
        "plt.show"
      ],
      "execution_count": 32,
      "outputs": [
        {
          "output_type": "execute_result",
          "data": {
            "text/plain": [
              "<function matplotlib.pyplot.show>"
            ]
          },
          "metadata": {
            "tags": []
          },
          "execution_count": 32
        },
        {
          "output_type": "display_data",
          "data": {
            "image/png": "[encoded data removed]",
            "text/plain": [
              "<Figure size 432x288 with 1 Axes>"
            ]
          },
          "metadata": {
            "tags": []
          }
        }
      ]
    },
    {
      "cell_type": "markdown",
      "metadata": {
        "id": "iRXSekYNVhcq",
        "colab_type": "text"
      },
      "source": [
        "cv2.circle(image, center, radian, color, thickness): 하나의 원을 그리는 함수\n",
        "\n",
        "*   center: 원의 중심 (2차원)\n",
        "*   radian: 반지름\n",
        "\n",
        "thickness: 선의 두께 (채우기: -1)"
      ]
    },
    {
      "cell_type": "code",
      "metadata": {
        "id": "G4awlropVpLi",
        "colab_type": "code",
        "colab": {
          "base_uri": "https://localhost:8080/",
          "height": 269
        },
        "outputId": "575b8906-6af2-4a11-f96e-dc32dc22b2ad"
      },
      "source": [
        "image3 = np.full((512,512,3),255,np.uint8)\n",
        "image3 = cv2.circle(image3,(150,150),100,(0,0,255),3)\n",
        "plt.imshow(image3)\n",
        "plt.show()"
      ],
      "execution_count": 39,
      "outputs": [
        {
          "output_type": "display_data",
          "data": {
            "image/png": "[encoded data removed]",
            "text/plain": [
              "<Figure size 432x288 with 1 Axes>"
            ]
          },
          "metadata": {
            "tags": []
          }
        }
      ]
    },
    {
      "cell_type": "markdown",
      "metadata": {
        "id": "ist0VPgEW0T-",
        "colab_type": "text"
      },
      "source": [
        "cv2.polylines(image, points, is_closed, color, thickness): 하나의 다각형을 그리는 함수\n",
        "\n",
        "*   points: 꼭지점들\n",
        "*   is_closed: 닫힌 도형 여부\n",
        "\n",
        "thickness: 선의 두께 (채우기: -1)"
      ]
    },
    {
      "cell_type": "code",
      "metadata": {
        "id": "ukYT9o-_W4op",
        "colab_type": "code",
        "colab": {
          "base_uri": "https://localhost:8080/",
          "height": 287
        },
        "outputId": "fc4aaf6e-4899-4931-a6bc-b30d833a5209"
      },
      "source": [
        "image4 = np.full((512,512,3),255,np.uint8)\n",
        "points = np.array([[5,5],[100,234],[58,201],[140,6]])\n",
        "image4 = cv2.polylines(image4,[points],True,(200,100,50),3)\n",
        "plt.imshow(image4)\n",
        "plt.show"
      ],
      "execution_count": 52,
      "outputs": [
        {
          "output_type": "execute_result",
          "data": {
            "text/plain": [
              "<function matplotlib.pyplot.show>"
            ]
          },
          "metadata": {
            "tags": []
          },
          "execution_count": 52
        },
        {
          "output_type": "display_data",
          "data": {
            "image/png": "[encoded data removed]",
            "text/plain": [
              "<Figure size 432x288 with 1 Axes>"
            ]
          },
          "metadata": {
            "tags": []
          }
        }
      ]
    },
    {
      "cell_type": "markdown",
      "metadata": {
        "id": "oqexJETaYIR2",
        "colab_type": "text"
      },
      "source": [
        "cv2.putText(image, text, position, font_type, font_scale, color): 하나의 텍스트를 그리는 함수\n",
        "\n",
        "*   position: 텍스트가 출력될 위치\n",
        "*   font_type: 글씨체\n",
        "\n",
        "font_scale: 글씨 크기 가중치"
      ]
    },
    {
      "cell_type": "code",
      "metadata": {
        "id": "w4_uuQU8YY_D",
        "colab_type": "code",
        "colab": {
          "base_uri": "https://localhost:8080/",
          "height": 269
        },
        "outputId": "16080e42-ba1d-4de9-a545-9538ac88a46c"
      },
      "source": [
        "image5 = np.full([512,512,3],255,np.uint8)\n",
        "image5 = cv2.putText(image5,\"Hello~ Mother&Father~\",(100,100), cv2.FONT_ITALIC,3,(255,0,0))\n",
        "plt.imshow(image5)\n",
        "plt.show()"
      ],
      "execution_count": 57,
      "outputs": [
        {
          "output_type": "display_data",
          "data": {
            "image/png": "[encoded data removed]",
            "text/plain": [
              "<Figure size 432x288 with 1 Axes>"
            ]
          },
          "metadata": {
            "tags": []
          }
        }
      ]
    }
  ]
}