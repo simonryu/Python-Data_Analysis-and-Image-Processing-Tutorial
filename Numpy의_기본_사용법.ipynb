{
  "nbformat": 4,
  "nbformat_minor": 0,
  "metadata": {
    "colab": {
      "name": "Numpy의 기본 사용법.ipynb",
      "provenance": [],
      "authorship_tag": "ABX9TyOiV+YmMdCVTfdFde3Dpx7q",
      "include_colab_link": true
    },
    "kernelspec": {
      "name": "python3",
      "display_name": "Python 3"
    }
  },
  "cells": [
    {
      "cell_type": "markdown",
      "metadata": {
        "id": "view-in-github",
        "colab_type": "text"
      },
      "source": [
        "<a href=\"https://colab.research.google.com/github/toot09/15012020_made/blob/master/Numpy%EC%9D%98_%EA%B8%B0%EB%B3%B8_%EC%82%AC%EC%9A%A9%EB%B2%95.ipynb\" target=\"_parent\"><img src=\"https://colab.research.google.com/assets/colab-badge.svg\" alt=\"Open In Colab\"/></a>"
      ]
    },
    {
      "cell_type": "code",
      "metadata": {
        "id": "CjBrLjC7ThSf",
        "colab_type": "code",
        "colab": {
          "base_uri": "https://localhost:8080/",
          "height": 89
        },
        "outputId": "4120b2c1-8066-477b-a856-fc5a13ef9f0a"
      },
      "source": [
        "import numpy as np\n",
        "\n",
        "list_data = [1,2,3,4]\n",
        "print(list_data)\n",
        "array = np.array(list_data)\n",
        "print(array)\n",
        "print(array.dtype)\n",
        "print(array.size)"
      ],
      "execution_count": 5,
      "outputs": [
        {
          "output_type": "stream",
          "text": [
            "[1, 2, 3, 4]\n",
            "[1 2 3 4]\n",
            "int64\n",
            "4\n"
          ],
          "name": "stdout"
        }
      ]
    }
  ]
}