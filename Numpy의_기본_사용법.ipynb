{
  "nbformat": 4,
  "nbformat_minor": 0,
  "metadata": {
    "colab": {
      "name": "Numpy의 기본 사용법.ipynb",
      "provenance": [],
      "authorship_tag": "ABX9TyOUVLy5sgUwcf5HuGk7SK+1",
      "include_colab_link": true
    },
    "kernelspec": {
      "name": "python3",
      "display_name": "Python 3"
    }
  },
  "cells": [
    {
      "cell_type": "markdown",
      "metadata": {
        "id": "view-in-github",
        "colab_type": "text"
      },
      "source": [
        "<a href=\"https://colab.research.google.com/github/toot09/15012020_made/blob/master/Numpy%EC%9D%98_%EA%B8%B0%EB%B3%B8_%EC%82%AC%EC%9A%A9%EB%B2%95.ipynb\" target=\"_parent\"><img src=\"https://colab.research.google.com/assets/colab-badge.svg\" alt=\"Open In Colab\"/></a>"
      ]
    },
    {
      "cell_type": "code",
      "metadata": {
        "id": "CjBrLjC7ThSf",
        "colab_type": "code",
        "colab": {
          "base_uri": "https://localhost:8080/",
          "height": 89
        },
        "outputId": "bd4cadf7-b46f-4482-8aa0-16996aa1cba8"
      },
      "source": [
        "import numpy as np\n",
        "\n",
        "list_data = [1,2,3,4]\n",
        "print(list_data)\n",
        "array = np.array(list_data)\n",
        "print(array)\n",
        "print(array.dtype)\n",
        "print(array.size)"
      ],
      "execution_count": 7,
      "outputs": [
        {
          "output_type": "stream",
          "text": [
            "[1, 2, 3, 4]\n",
            "[1 2 3 4]\n",
            "int64\n",
            "4\n"
          ],
          "name": "stdout"
        }
      ]
    },
    {
      "cell_type": "code",
      "metadata": {
        "id": "I8z2L0nLyhMD",
        "colab_type": "code",
        "colab": {
          "base_uri": "https://localhost:8080/",
          "height": 341
        },
        "outputId": "c10ca670-3dd8-4d31-d66a-379394aa15d0"
      },
      "source": [
        "# 0부터 3까지의 배열 만들기\n",
        "array1 = np.arange(4)\n",
        "print(array1)\n",
        "\n",
        "# 0행렬\n",
        "array2 = np.zeros((4,4),dtype=float)\n",
        "print(array2)\n",
        "\n",
        "# 1행렬\n",
        "array3 = np.ones((3,2),dtype=str)\n",
        "print(array3)\n",
        "\n",
        "# 0~9 랜덤 초기화\n",
        "array4 = np.random.random_integers(0,10,(5,5))\n",
        "print(array4)\n",
        "\n",
        "# 평균이 0이고, 표준편차가 1인 표준 정규를 띄는 배열(표준정규분포)\n",
        "array5 = np.random.normal(0,1,(3,3))\n",
        "print(array5)"
      ],
      "execution_count": 24,
      "outputs": [
        {
          "output_type": "stream",
          "text": [
            "[0 1 2 3]\n",
            "[[0. 0. 0. 0.]\n",
            " [0. 0. 0. 0.]\n",
            " [0. 0. 0. 0.]\n",
            " [0. 0. 0. 0.]]\n",
            "[['1' '1']\n",
            " ['1' '1']\n",
            " ['1' '1']]\n",
            "[[ 7  1  1 10 10]\n",
            " [10  7  1  5  2]\n",
            " [ 3  3  8  1  3]\n",
            " [ 7  8  0 10  9]\n",
            " [ 8  0  2  0  5]]\n",
            "[[ 0.67902574 -0.69289511  0.44224974]\n",
            " [-0.6416598   0.02155819  0.12803804]\n",
            " [ 0.66912475  0.1317138   0.4335487 ]]\n"
          ],
          "name": "stdout"
        },
        {
          "output_type": "stream",
          "text": [
            "/usr/local/lib/python3.6/dist-packages/ipykernel_launcher.py:13: DeprecationWarning: This function is deprecated. Please call randint(0, 10 + 1) instead\n",
            "  del sys.path[0]\n"
          ],
          "name": "stderr"
        }
      ]
    }
  ]
}