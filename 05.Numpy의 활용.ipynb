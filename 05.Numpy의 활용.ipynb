{
  "nbformat": 4,
  "nbformat_minor": 0,
  "metadata": {
    "colab": {
      "name": "Untitled1.ipynb",
      "provenance": [],
      "authorship_tag": "ABX9TyO1ELrsxtcDozMCbe5S/8on",
      "include_colab_link": true
    },
    "kernelspec": {
      "name": "python3",
      "display_name": "Python 3"
    }
  },
  "cells": [
    {
      "cell_type": "markdown",
      "metadata": {
        "id": "view-in-github",
        "colab_type": "text"
      },
      "source": [
        "<a href=\"https://colab.research.google.com/github/toot09/15012020_made/blob/master/Numpy%EC%9D%98%20%ED%99%9C%EC%9A%A9.ipynb\" target=\"_parent\"><img src=\"https://colab.research.google.com/assets/colab-badge.svg\" alt=\"Open In Colab\"/></a>"
      ]
    },
    {
      "cell_type": "code",
      "metadata": {
        "id": "TZu0TCVxH5xz",
        "colab_type": "code",
        "colab": {}
      },
      "source": [
        "import numpy as np"
      ],
      "execution_count": 0,
      "outputs": []
    },
    {
      "cell_type": "code",
      "metadata": {
        "id": "HGTcBUimIx4T",
        "colab_type": "code",
        "colab": {}
      },
      "source": [
        "# 단일 객체 저장 및 불러오기\n",
        "array = np.arange(0,9)\n",
        "np.save('saved.npy',array)"
      ],
      "execution_count": 0,
      "outputs": []
    },
    {
      "cell_type": "code",
      "metadata": {
        "id": "aeqBGM6XJmDK",
        "colab_type": "code",
        "colab": {
          "base_uri": "https://localhost:8080/",
          "height": 35
        },
        "outputId": "01afd8e4-438a-4027-fe62-c6265e4cfad7"
      },
      "source": [
        "result  = np.load('saved.npy')\n",
        "print(result)"
      ],
      "execution_count": 5,
      "outputs": [
        {
          "output_type": "stream",
          "text": [
            "[0 1 2 3 4 5 6 7 8]\n"
          ],
          "name": "stdout"
        }
      ]
    },
    {
      "cell_type": "code",
      "metadata": {
        "id": "i-xFr09VJufd",
        "colab_type": "code",
        "colab": {
          "base_uri": "https://localhost:8080/",
          "height": 107
        },
        "outputId": "5f2770e5-1e38-436f-ffaa-7e5b21021d2a"
      },
      "source": [
        "# 복수 객체 저장 및 불러오기\n",
        "array1 = np.random.randint(0,9,size=10).reshape(2,5)\n",
        "array2 = np.random.randint(0,9,size=9).reshape(3,3)\n",
        "print(array1)\n",
        "print(array2)\n",
        "np.savez('saved.npz',array1=array1,arrayTest=array2)"
      ],
      "execution_count": 10,
      "outputs": [
        {
          "output_type": "stream",
          "text": [
            "[[5 4 3 5 0]\n",
            " [5 5 4 5 8]]\n",
            "[[5 7 8]\n",
            " [0 0 3]\n",
            " [8 4 5]]\n"
          ],
          "name": "stdout"
        }
      ]
    },
    {
      "cell_type": "code",
      "metadata": {
        "id": "JZBAyXvqKWE3",
        "colab_type": "code",
        "colab": {
          "base_uri": "https://localhost:8080/",
          "height": 107
        },
        "outputId": "9726e906-9f5b-4fe7-da96-ca36497cd590"
      },
      "source": [
        "# 복수객체 불러오기\n",
        "data = np.load('saved.npz')\n",
        "result1 = data['array1']\n",
        "print(result1)\n",
        "result2 = data['arrayTest']\n",
        "print(result2)"
      ],
      "execution_count": 18,
      "outputs": [
        {
          "output_type": "stream",
          "text": [
            "[[5 4 3 5 0]\n",
            " [5 5 4 5 8]]\n",
            "[[5 7 8]\n",
            " [0 0 3]\n",
            " [8 4 5]]\n"
          ],
          "name": "stdout"
        }
      ]
    },
    {
      "cell_type": "code",
      "metadata": {
        "id": "weY0rFv3LhAa",
        "colab_type": "code",
        "colab": {
          "base_uri": "https://localhost:8080/",
          "height": 296
        },
        "outputId": "74f5fde1-6cb9-4f1a-d0e7-150a240349cd"
      },
      "source": [
        "# numpy 원소 오름차순 정렬\n",
        "array = np.array([5,1,7,12,5,9,123,3,1,7])\n",
        "array.sort()\n",
        "print(array)\n",
        "print(array[::-1])\n",
        "print(array[0:6])\n",
        "print(array[6:0:-1])\n",
        "print(array)"
      ],
      "execution_count": 31,
      "outputs": [
        {
          "output_type": "stream",
          "text": [
            "[  1   1   3   5   5   7   7   9  12 123]\n",
            "[123  12   9   7   7   5   5   3   1   1]\n",
            "[1 1 3 5 5 7]\n",
            "[7 7 5 5 3 1]\n"
          ],
          "name": "stdout"
        },
        {
          "output_type": "error",
          "ename": "TypeError",
          "evalue": "ignored",
          "traceback": [
            "\u001b[0;31m---------------------------------------------------------------------------\u001b[0m",
            "\u001b[0;31mTypeError\u001b[0m                                 Traceback (most recent call last)",
            "\u001b[0;32m<ipython-input-31-1f4e2a959f96>\u001b[0m in \u001b[0;36m<module>\u001b[0;34m()\u001b[0m\n\u001b[1;32m      5\u001b[0m \u001b[0mprint\u001b[0m\u001b[0;34m(\u001b[0m\u001b[0marray\u001b[0m\u001b[0;34m[\u001b[0m\u001b[0;36m0\u001b[0m\u001b[0;34m:\u001b[0m\u001b[0;36m6\u001b[0m\u001b[0;34m]\u001b[0m\u001b[0;34m)\u001b[0m\u001b[0;34m\u001b[0m\u001b[0;34m\u001b[0m\u001b[0m\n\u001b[1;32m      6\u001b[0m \u001b[0mprint\u001b[0m\u001b[0;34m(\u001b[0m\u001b[0marray\u001b[0m\u001b[0;34m[\u001b[0m\u001b[0;36m6\u001b[0m\u001b[0;34m:\u001b[0m\u001b[0;36m0\u001b[0m\u001b[0;34m:\u001b[0m\u001b[0;34m-\u001b[0m\u001b[0;36m1\u001b[0m\u001b[0;34m]\u001b[0m\u001b[0;34m)\u001b[0m\u001b[0;34m\u001b[0m\u001b[0;34m\u001b[0m\u001b[0m\n\u001b[0;32m----> 7\u001b[0;31m \u001b[0marray\u001b[0m\u001b[0;34m.\u001b[0m\u001b[0msort\u001b[0m\u001b[0;34m(\u001b[0m\u001b[0mreversed\u001b[0m\u001b[0;34m=\u001b[0m\u001b[0;32mTrue\u001b[0m\u001b[0;34m)\u001b[0m\u001b[0;34m\u001b[0m\u001b[0;34m\u001b[0m\u001b[0m\n\u001b[0m\u001b[1;32m      8\u001b[0m \u001b[0mprint\u001b[0m\u001b[0;34m(\u001b[0m\u001b[0marray\u001b[0m\u001b[0;34m)\u001b[0m\u001b[0;34m\u001b[0m\u001b[0;34m\u001b[0m\u001b[0m\n",
            "\u001b[0;31mTypeError\u001b[0m: 'reversed' is an invalid keyword argument for this function"
          ]
        }
      ]
    },
    {
      "cell_type": "code",
      "metadata": {
        "id": "jn1pR4nHQsdg",
        "colab_type": "code",
        "colab": {
          "base_uri": "https://localhost:8080/",
          "height": 233
        },
        "outputId": "4a74b115-b5f5-4672-d3e5-7a6abc6525f1"
      },
      "source": [
        "# 행열 기준 정렬\n",
        "array2= np.array([[1,6,12,6],[3,6,21,1],[2,1,6,0]])\n",
        "print(np.sort(array2, axis = 1))\n",
        "print(np.sort(array2, axis = 1)[::-1])\n",
        "print(np.sort(array2, axis = 0))\n",
        "print(np.sort(array2, axis = 0)[::-1])\n",
        "#axis에 대한 행/렬 헷갈릴때 씀 (순서 : ㅣ-)\n",
        "#array2= np.array([[1,6,12,6],[3,6,21,1],[2,1,6,0]])\n",
        "#print(array2)\n",
        "#left, right = np.split(array2,[1],axis=1)\n",
        "#print(left)\n",
        "#print(right)\n",
        "#print(np.sum(array2,axis=1))\n"
      ],
      "execution_count": 56,
      "outputs": [
        {
          "output_type": "stream",
          "text": [
            "[[ 1  6  6 12]\n",
            " [ 1  3  6 21]\n",
            " [ 0  1  2  6]]\n",
            "[[ 0  1  2  6]\n",
            " [ 1  3  6 21]\n",
            " [ 1  6  6 12]]\n",
            "[[ 1  1  6  0]\n",
            " [ 2  6 12  1]\n",
            " [ 3  6 21  6]]\n",
            "[[ 3  6 21  6]\n",
            " [ 2  6 12  1]\n",
            " [ 1  1  6  0]]\n"
          ],
          "name": "stdout"
        }
      ]
    },
    {
      "cell_type": "code",
      "metadata": {
        "id": "eIuWLbCGUMr5",
        "colab_type": "code",
        "colab": {
          "base_uri": "https://localhost:8080/",
          "height": 143
        },
        "outputId": "6fe764cc-dc23-49d5-e8a6-d43ed71d9dc6"
      },
      "source": [
        "# 균일한 간격으로 데이터 생성 (linspace)\n",
        "array = np.linspace(0,10,5)\n",
        "print(array)\n",
        "\n",
        "# 난수 생성\n",
        "#np.random.seed(7) # 난수 고정\n",
        "arrayR = np.random.randint(0,10,(2,3))\n",
        "print(arrayR)\n",
        "\n",
        "# 복사\n",
        "array1 = np.arange(8)\n",
        "array2 = array1.copy()\n",
        "array2[0] = 99\n",
        "print(array1)\n",
        "print(array2)\n",
        "\n",
        "# 중복된 원소 제거\n",
        "array = np.array([11,4,51,1,5,2,56,2,11])\n",
        "print(array)\n",
        "print(np.unique(array))"
      ],
      "execution_count": 71,
      "outputs": [
        {
          "output_type": "stream",
          "text": [
            "[ 0.   2.5  5.   7.5 10. ]\n",
            "[[3 8 3]\n",
            " [0 1 0]]\n",
            "[0 1 2 3 4 5 6 7]\n",
            "[99  1  2  3  4  5  6  7]\n",
            "[11  4 51  1  5  2 56  2 11]\n",
            "[ 1  2  4  5 11 51 56]\n"
          ],
          "name": "stdout"
        }
      ]
    }
  ]
}
