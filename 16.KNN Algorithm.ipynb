{
  "nbformat": 4,
  "nbformat_minor": 0,
  "metadata": {
    "colab": {
      "name": "Untitled8.ipynb",
      "provenance": [],
      "authorship_tag": "ABX9TyM4lhG+j94jTFZmfediSSuW",
      "include_colab_link": true
    },
    "kernelspec": {
      "name": "python3",
      "display_name": "Python 3"
    }
  },
  "cells": [
    {
      "cell_type": "markdown",
      "metadata": {
        "id": "view-in-github",
        "colab_type": "text"
      },
      "source": [
        "<a href=\"https://colab.research.google.com/github/toot09/Python-Data_Analysis-and-Image-Processing-Tutorial/blob/master/16.KNN%20Algorithm.ipynb\" target=\"_parent\"><img src=\"https://colab.research.google.com/assets/colab-badge.svg\" alt=\"Open In Colab\"/></a>"
      ]
    },
    {
      "cell_type": "markdown",
      "metadata": {
        "id": "9fYE58OG-3OG",
        "colab_type": "text"
      },
      "source": [
        "**KNN Algorithm**\n",
        "\n",
        "K-Nearest Neighbor\n",
        "\n",
        "* KNN은 비지도학습(Unsupervised Learning)의 가장 간단한 예시입니다.\n",
        "* 다양한 레이블의 데이터 중에서, 자신과 가까운 데이터를 찾아 자신의 레이블을 결정하는 방식입니다."
      ]
    },
    {
      "cell_type": "code",
      "metadata": {
        "id": "Osfes6_6--By",
        "colab_type": "code",
        "colab": {
          "base_uri": "https://localhost:8080/",
          "height": 322
        },
        "outputId": "07629b0f-fcaf-4619-98e9-e2106c889c11"
      },
      "source": [
        "import cv2\n",
        "import numpy as np\n",
        "import matplotlib.pyplot as plt\n",
        "\n",
        "# 각 데이터의 위치: 25 X 2 크기에 각각 0 ~ 100\n",
        "trainData = np.random.randint(0,100,(25,2)).astype(np.float32)\n",
        "# 각 데이터는 0 or 1\n",
        "response = np.random.randint(0,2,(25,1)).astype(np.float32)\n",
        "\n",
        "# 값이 0인 데이터를 각각 (x, y) 위치에 빨간색으로 칠합니다.\n",
        "# ravel() : 1차원변환\n",
        "# 참고 url : https://blog.naver.com/wideeyed/221533365486\n",
        "red = trainData[response.ravel() == 0] # 이 표현 좋다! 나중에 써먹어야지\n",
        "plt.scatter(red[:,0] , red[:,1], 80, 'r','^')\n",
        "\n",
        "# 값이 1인 데이터를 각각 (x, y) 위치에 파란색으로 칠합니다.\n",
        "blue = trainData[response.ravel() == 1]\n",
        "plt.scatter(blue[:,0], blue[:,1], 80, 'b', 's')\n",
        "\n",
        "# (0 ~ 100, 0 ~ 100) 위치의 데이터를 하나 생성해 칠합니다.\n",
        "newcomer = np.random.randint(0,100,(1,2)).astype(np.float32)\n",
        "plt.scatter(newcomer[:,0],newcomer[:,1],100,'g','o')\n",
        "\n",
        "knn = cv2.ml.KNearest_create()\n",
        "knn.train(trainData, cv2.ml.ROW_SAMPLE, response)\n",
        "ret, results, neighbours, dist = knn.findNearest(newcomer, 3)\n",
        "\n",
        "# 가까운 3개를 찾고, 거리를 고려하여 자신을 정합니다.\n",
        "# ravel(0,1)로 표현해준다\n",
        "print(\"result : \", results)\n",
        "print(\"neighbours :\", neighbours)\n",
        "print(\"distance: \", dist)\n",
        "#print(\"ret: \", ret)\n",
        "\n",
        "plt.show()"
      ],
      "execution_count": 57,
      "outputs": [
        {
          "output_type": "stream",
          "text": [
            "result :  [[0.]]\n",
            "neighbours : [[1. 0. 0.]]\n",
            "distance:  [[ 596.  773. 1157.]]\n"
          ],
          "name": "stdout"
        },
        {
          "output_type": "display_data",
          "data": {
            "image/png": "[encoded data removed]",
            "text/plain": [
              "<Figure size 432x288 with 1 Axes>"
            ]
          },
          "metadata": {
            "tags": []
          }
        }
      ]
    }
  ]
}